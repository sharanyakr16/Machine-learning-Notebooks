{
 "cells": [
  {
   "cell_type": "markdown",
   "metadata": {},
   "source": [
    "# A Quick Look at Keras Deep Learning Framework\n",
    "\n",
    "In this a quick overview of applying a convolutional neural net to solving the problem of mnist. We are using [Keras](https://keras.io/) which is a high-level neural networks API, written in Python. To [install Keras](https://keras.io/#installation) you can use the following conda commands. We install Tensorflow and then Keras:\n",
    "```\n",
    "pip install tensorflow\n",
    "pip install keras\n",
    "```\n",
    "Depending on your system, the default backend of keras might be Theano. We will be using [Tensorflow backend](https://keras.io/backend/)."
   ]
  },
  {
   "cell_type": "code",
   "execution_count": 1,
   "metadata": {},
   "outputs": [
    {
     "name": "stderr",
     "output_type": "stream",
     "text": [
      "/anaconda3/lib/python3.6/site-packages/h5py/__init__.py:36: FutureWarning: Conversion of the second argument of issubdtype from `float` to `np.floating` is deprecated. In future, it will be treated as `np.float64 == np.dtype(float).type`.\n",
      "  from ._conv import register_converters as _register_converters\n",
      "Using TensorFlow backend.\n"
     ]
    }
   ],
   "source": [
    "import numpy as np\n",
    "import matplotlib.pylab as plt\n",
    "\n",
    "# import keras and its sub-libraries useful for us\n",
    "import keras\n",
    "from keras import regularizers\n",
    "from keras.datasets import mnist\n",
    "from keras.models import Sequential\n",
    "from keras.layers import Conv2D, MaxPooling2D\n",
    "from keras.layers import Dense, Dropout, Flatten"
   ]
  },
  {
   "cell_type": "markdown",
   "metadata": {},
   "source": [
    "Keras allow us to load MNIST easily and preprocess it for learning."
   ]
  },
  {
   "cell_type": "code",
   "execution_count": 2,
   "metadata": {},
   "outputs": [
    {
     "name": "stdout",
     "output_type": "stream",
     "text": [
      "Downloading data from https://s3.amazonaws.com/img-datasets/mnist.npz\n",
      "11493376/11490434 [==============================] - 2s 0us/step\n"
     ]
    }
   ],
   "source": [
    "# number of images used for calculating gradient\n",
    "batch_size = 128\n",
    "\n",
    "# number of loops over the whole training data \n",
    "epochs = 10\n",
    "\n",
    "num_classes = 10\n",
    "\n",
    "# input image dimensions\n",
    "width = 28\n",
    "height = 28\n",
    "\n",
    "# keras automatically splits the data into train and test sets\n",
    "(x_train, y_train), (x_test, y_test) = mnist.load_data()\n",
    "\n",
    "# reshape the flatten images into 28 by 28 images and normalize the intensities\n",
    "x_train = x_train.reshape(x_train.shape[0], height, width, 1)/255.0\n",
    "x_test = x_test.reshape(x_test.shape[0], height, width, 1)/255.0\n",
    "\n",
    "# convert class vectors to binary class matrices, more on this later\n",
    "y_train_1hot = keras.utils.to_categorical(y_train, num_classes)\n",
    "y_test_1hot = keras.utils.to_categorical(y_test, num_classes)"
   ]
  },
  {
   "cell_type": "markdown",
   "metadata": {},
   "source": [
    "Let us visualize a few images from the data to make sure both the images and the labels are correct."
   ]
  },
  {
   "cell_type": "code",
   "execution_count": 3,
   "metadata": {},
   "outputs": [
    {
     "data": {
      "image/png": "[encoded data removed]",
      "text/plain": [
       "<Figure size 432x288 with 1 Axes>"
      ]
     },
     "metadata": {},
     "output_type": "display_data"
    }
   ],
   "source": [
    "# choose a random image\n",
    "k = np.random.choice(len(x_train))\n",
    "\n",
    "# visualize the random chosen image\n",
    "plt.imshow(x_train[k][:,:,0] , cmap='gray')\n",
    "# print the image label/class\n",
    "plt.title(y_train[k])\n",
    "plt.axis('off')\n",
    "plt.show()"
   ]
  },
  {
   "cell_type": "markdown",
   "metadata": {},
   "source": [
    "Here we create a convolutional neural network that will learn hand-written images on its own. Later in the course, we will learn about the details of how this model is created."
   ]
  },
  {
   "cell_type": "code",
   "execution_count": 4,
   "metadata": {},
   "outputs": [],
   "source": [
    "# specify the dimensions of our input\n",
    "input_shape = (height, width, 1)"
   ]
  },
  {
   "cell_type": "code",
   "execution_count": 11,
   "metadata": {},
   "outputs": [],
   "source": [
    "# type of the model\n",
    "model = Sequential()\n",
    "\n",
    "# first convolutional layer\n",
    "model.add(Conv2D(16, kernel_size=(3, 3), activation='relu', input_shape=input_shape))\n",
    "\n",
    "# second convolutional layer\n",
    "model.add(Conv2D(32, (3, 3), activation='relu'))\n",
    "\n",
    "\n",
    "model.add(Conv2D(64, (3, 3), activation='relu'))\n",
    "# maxpooling and faltten for using dense layers\n",
    "model.add(MaxPooling2D(pool_size=(2, 2)))\n",
    "model.add(Dropout(0.25))\n",
    "model.add(Flatten())\n",
    "\n",
    "# dense layer with a l2 regularizer\n",
    "model.add(Dense(128, activation='relu', kernel_regularizer=regularizers.l2(0.001)))\n",
    "\n",
    "# output layer using softmax output\n",
    "model.add(Dense(num_classes, activation='softmax'))"
   ]
  },
  {
   "cell_type": "markdown",
   "metadata": {},
   "source": [
    "Next, we define our optimizer which is a simple gradient descent in this case with the learning rate of $0.001$."
   ]
  },
  {
   "cell_type": "code",
   "execution_count": 12,
   "metadata": {},
   "outputs": [],
   "source": [
    "model.compile(loss='categorical_crossentropy',\n",
    "              optimizer=keras.optimizers.SGD(lr=0.005),\n",
    "              metrics=['accuracy'])"
   ]
  },
  {
   "cell_type": "markdown",
   "metadata": {},
   "source": [
    "We can see the structure of the model by calling the `summary()` function."
   ]
  },
  {
   "cell_type": "code",
   "execution_count": 13,
   "metadata": {},
   "outputs": [
    {
     "name": "stdout",
     "output_type": "stream",
     "text": [
      "_________________________________________________________________\n",
      "Layer (type)                 Output Shape              Param #   \n",
      "=================================================================\n",
      "conv2d_9 (Conv2D)            (None, 26, 26, 16)        160       \n",
      "_________________________________________________________________\n",
      "conv2d_10 (Conv2D)           (None, 24, 24, 32)        4640      \n",
      "_________________________________________________________________\n",
      "conv2d_11 (Conv2D)           (None, 22, 22, 64)        18496     \n",
      "_________________________________________________________________\n",
      "max_pooling2d_4 (MaxPooling2 (None, 11, 11, 64)        0         \n",
      "_________________________________________________________________\n",
      "dropout_4 (Dropout)          (None, 11, 11, 64)        0         \n",
      "_________________________________________________________________\n",
      "flatten_4 (Flatten)          (None, 7744)              0         \n",
      "_________________________________________________________________\n",
      "dense_5 (Dense)              (None, 128)               991360    \n",
      "_________________________________________________________________\n",
      "dense_6 (Dense)              (None, 10)                1290      \n",
      "=================================================================\n",
      "Total params: 1,015,946\n",
      "Trainable params: 1,015,946\n",
      "Non-trainable params: 0\n",
      "_________________________________________________________________\n"
     ]
    }
   ],
   "source": [
    "model.summary()"
   ]
  },
  {
   "cell_type": "markdown",
   "metadata": {},
   "source": [
    "Finally, we are ready to train our model on the data. You can see the performance of the model by following both the cost and percentage of correct answers (accuracy) in the training data. At the end of each epoch, we can see the performance of the model on the test set."
   ]
  },
  {
   "cell_type": "code",
   "execution_count": 14,
   "metadata": {},
   "outputs": [
    {
     "name": "stdout",
     "output_type": "stream",
     "text": [
      "Train on 60000 samples, validate on 10000 samples\n",
      "Epoch 1/10\n",
      "60000/60000 [==============================] - 162s 3ms/step - loss: 1.5361 - acc: 0.6288 - val_loss: 0.5989 - val_acc: 0.9007\n",
      "Epoch 2/10\n",
      "60000/60000 [==============================] - 145s 2ms/step - loss: 0.6281 - acc: 0.8846 - val_loss: 0.5217 - val_acc: 0.9211\n",
      "Epoch 3/10\n",
      "60000/60000 [==============================] - 695s 12ms/step - loss: 0.5542 - acc: 0.9083 - val_loss: 0.4677 - val_acc: 0.9363\n",
      "Epoch 4/10\n",
      "60000/60000 [==============================] - 139s 2ms/step - loss: 0.5013 - acc: 0.9226 - val_loss: 0.4351 - val_acc: 0.9444\n",
      "Epoch 5/10\n",
      "60000/60000 [==============================] - 144s 2ms/step - loss: 0.4596 - acc: 0.9358 - val_loss: 0.4025 - val_acc: 0.9534\n",
      "Epoch 6/10\n",
      "60000/60000 [==============================] - 135s 2ms/step - loss: 0.4271 - acc: 0.9449 - val_loss: 0.3779 - val_acc: 0.9605\n",
      "Epoch 7/10\n",
      "60000/60000 [==============================] - 145s 2ms/step - loss: 0.4006 - acc: 0.9522 - val_loss: 0.3642 - val_acc: 0.9637\n",
      "Epoch 8/10\n",
      "60000/60000 [==============================] - 145s 2ms/step - loss: 0.3785 - acc: 0.9578 - val_loss: 0.3423 - val_acc: 0.9692\n",
      "Epoch 9/10\n",
      "60000/60000 [==============================] - 137s 2ms/step - loss: 0.3614 - acc: 0.9625 - val_loss: 0.3343 - val_acc: 0.9714\n",
      "Epoch 10/10\n",
      "60000/60000 [==============================] - 139s 2ms/step - loss: 0.3475 - acc: 0.9651 - val_loss: 0.3170 - val_acc: 0.9748\n"
     ]
    }
   ],
   "source": [
    "history = model.fit(x_train, y_train_1hot,\n",
    "                    batch_size=batch_size,\n",
    "                    epochs=epochs,\n",
    "                    verbose=1,\n",
    "                    validation_data=(x_test, y_test_1hot))"
   ]
  },
  {
   "cell_type": "markdown",
   "metadata": {},
   "source": [
    "After training, we can visualize the accuracy and loss curves to have a better understanding of our model performance. Also, it would be useful for hyper parameter tuning."
   ]
  },
  {
   "cell_type": "code",
   "execution_count": 15,
   "metadata": {},
   "outputs": [
    {
     "data": {
      "image/png": "[encoded data removed]",
      "text/plain": [
       "<Figure size 432x288 with 1 Axes>"
      ]
     },
     "metadata": {},
     "output_type": "display_data"
    }
   ],
   "source": [
    "# summarize history for accuracy\n",
    "plt.plot(history.history['acc'])\n",
    "plt.plot(history.history['val_acc'])\n",
    "plt.title('model accuracy')\n",
    "plt.ylabel('accuracy')\n",
    "plt.xlabel('epoch')\n",
    "plt.legend(['train', 'test'])\n",
    "plt.show()"
   ]
  },
  {
   "cell_type": "code",
   "execution_count": 16,
   "metadata": {},
   "outputs": [
    {
     "data": {
      "image/png": "[encoded data removed]",
      "text/plain": [
       "<Figure size 432x288 with 1 Axes>"
      ]
     },
     "metadata": {},
     "output_type": "display_data"
    }
   ],
   "source": [
    "# summarize history for loss\n",
    "plt.plot(history.history['loss'])\n",
    "plt.plot(history.history['val_loss'])\n",
    "plt.title('model loss')\n",
    "plt.ylabel('loss')\n",
    "plt.xlabel('epoch')\n",
    "plt.legend(['train', 'test'])\n",
    "plt.show()"
   ]
  },
  {
   "cell_type": "markdown",
   "metadata": {},
   "source": [
    "Our model performs very well on MNIST. This model can be tuned to even higher accuracies but at this state, the more important thing is to understand how it works.\n",
    "\n",
    "Based on numbers, we can see that our model is capable of recongizing the digits from around 97% of the images. It would feel good to see our model in action so let us show the model a few images and ask for the corresponding digit."
   ]
  },
  {
   "cell_type": "code",
   "execution_count": 17,
   "metadata": {},
   "outputs": [
    {
     "data": {
      "image/png": "[encoded data removed]",
      "text/plain": [
       "<Figure size 432x288 with 1 Axes>"
      ]
     },
     "metadata": {},
     "output_type": "display_data"
    }
   ],
   "source": [
    "k = np.random.choice(len(x_test))\n",
    "\n",
    "plt.imshow(x_train[k][:,:,0] , cmap='gray')\n",
    "\n",
    "image = x_train[k].reshape(1,28,28,1)\n",
    "\n",
    "# our model guess for the label of the image\n",
    "label = model.predict_classes(image,verbose=False)\n",
    "\n",
    "plt.title(str(label))\n",
    "plt.axis('off')\n",
    "plt.show()"
   ]
  },
  {
   "cell_type": "markdown",
   "metadata": {
    "collapsed": true
   },
   "source": [
    "Here we use opencv3 to load and preprocess an image of a digit that we created ourselves to test our model in real world.\n",
    "\n",
    "To install opencv you can run the following command in your terminal\n",
    "```\n",
    "conda install -c menpo opencv3\n",
    "```"
   ]
  },
  {
   "cell_type": "code",
   "execution_count": null,
   "metadata": {
    "collapsed": true
   },
   "outputs": [],
   "source": [
    "# import opencv to work with the image data\n",
    "import cv2"
   ]
  },
  {
   "cell_type": "code",
   "execution_count": null,
   "metadata": {
    "collapsed": true
   },
   "outputs": [],
   "source": [
    "# read the image into a numpy array\n",
    "im = cv2.imread('Untitled.jpg')\n",
    "\n",
    "# show image\n",
    "plt.imshow(im)\n",
    "\n",
    "# reshape the array to the correct format for our model\n",
    "gray_image = cv2.cvtColor(im, cv2.COLOR_BGR2GRAY)\n",
    "gray_image = gray_image.reshape(1,28,28,1)\n",
    "\n",
    "# our model guess for the label of the image\n",
    "label = model.predict_classes(image,verbose=False)\n",
    "\n",
    "plt.title(str(label))\n",
    "plt.axis('off')\n",
    "plt.show()"
   ]
  },
  {
   "cell_type": "code",
   "execution_count": null,
   "metadata": {},
   "outputs": [],
   "source": []
  },
  {
   "cell_type": "code",
   "execution_count": null,
   "metadata": {},
   "outputs": [],
   "source": []
  },
  {
   "cell_type": "code",
   "execution_count": null,
   "metadata": {
    "collapsed": true
   },
   "outputs": [],
   "source": []
  }
 ],
 "metadata": {
  "kernelspec": {
   "display_name": "Python 3",
   "language": "python",
   "name": "python3"
  },
  "language_info": {
   "codemirror_mode": {
    "name": "ipython",
    "version": 3
   },
   "file_extension": ".py",
   "mimetype": "text/x-python",
   "name": "python",
   "nbconvert_exporter": "python",
   "pygments_lexer": "ipython3",
   "version": "3.6.5"
  }
 },
 "nbformat": 4,
 "nbformat_minor": 2
}
